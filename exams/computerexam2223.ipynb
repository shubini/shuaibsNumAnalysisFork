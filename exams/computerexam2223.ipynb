{
 "cells": [
  {
   "cell_type": "markdown",
   "source": [
    "# MATH50003 Numerical Analysis (2022–2023)\n",
    "# Computer-based Exam"
   ],
   "metadata": {}
  },
  {
   "cell_type": "markdown",
   "source": [
    "Instructions for uploading and downloading:"
   ],
   "metadata": {}
  },
  {
   "cell_type": "markdown",
   "source": [
    "1. Rename the file to include your CID.\n",
    "2. You have 15 mins to download the exam beginning at 12:00 on 17 March.\n",
    "2. You have 1 hour to complete the exam beginning at 12:15 on 17 March.\n",
    "3. Deadline is 13:30 on 17 March to upload the completed Jupyter notebook (`.ipynb`) to Blackboard.\n",
    "Please inform an invigilator if you experience difficulty.\n",
    "5. Once uploaded, re-download the file before the final submission time to confirm it is correct.\n",
    "You are allowed to upload additional submissions but only the last valid upload before 13:15 will be used\n",
    "unless permission is given by an invigilator to upload late.\n",
    "6. If uploading via Blackboard fails you may e-mail the UG Office after consulting with\n",
    "an invigilator: maths.exams@imperial.ac.uk"
   ],
   "metadata": {}
  },
  {
   "cell_type": "markdown",
   "source": [
    "Instructions for the exam:"
   ],
   "metadata": {}
  },
  {
   "cell_type": "markdown",
   "source": [
    "1. For each problem, replace the `# TODO` to complete the question.\n",
    "The unit tests are provided to help you test your answers.\n",
    "3. Problems are marked A/B/C to indicate difficulty (\"A\" being most difficult).\n",
    "Partial credit will be awarded for reasonable attempts even if the tests\n",
    "are not passed. A and B questions are worth 12 marks while C questions are worth 10 marks.\n",
    "3. If you have technical queries please email s.olver@imperial.ac.uk. Any other queries\n",
    "should be discussed with an invigilator or sent to the UG Office: maths.exams@imperial.ac.uk\n",
    "4. You may use existing code from anywhere\n",
    "but you are **REQUIRED** to cite the source if it is not part of the module material,\n",
    "by including a weblink in a comment.\n",
    "5. You **MUST NOT** ask for help online or\n",
    "communicate with others within or outside the module.\n",
    "Failure to follow these rules will be considered misconduct.\n",
    "6. You **MUST NOT** use handwritten notes but may use provided paper.\n",
    "7. **NO USAGE of AI tools** such as ChatGPT or GitHub Co-Pilot."
   ],
   "metadata": {}
  },
  {
   "cell_type": "markdown",
   "source": [
    "You should **ONLY USE** the following packages:"
   ],
   "metadata": {}
  },
  {
   "outputs": [],
   "cell_type": "code",
   "source": [
    "using LinearAlgebra, SetRounding, Test"
   ],
   "metadata": {},
   "execution_count": 1
  },
  {
   "cell_type": "markdown",
   "source": [
    "**WARNING** It may be necessary to restart the kernel if issues arise. Remember to reload the packages\n",
    "when you do so."
   ],
   "metadata": {}
  },
  {
   "cell_type": "markdown",
   "source": [
    "## I.1 Integers"
   ],
   "metadata": {}
  },
  {
   "cell_type": "markdown",
   "source": [
    "**Problem 1 (C)** Complete the following function that returns an 8-bit signed integer whose bits are `11111110`."
   ],
   "metadata": {}
  },
  {
   "outputs": [
    {
     "output_type": "execute_result",
     "data": {
      "text/plain": "\u001b[33m\u001b[1mTest Broken\u001b[22m\u001b[39m\n  Expression: bitstring(bits11111110()) == \"11111110\""
     },
     "metadata": {},
     "execution_count": 2
    }
   ],
   "cell_type": "code",
   "source": [
    "function bits11111110()\n",
    "    # TODO: return an `Int8` whose bits are all 11111110\n",
    "\n",
    "end\n",
    "\n",
    "@test bits11111110() isa Int8\n",
    "@test bitstring(bits11111110()) == \"11111110\""
   ],
   "metadata": {},
   "execution_count": 2
  },
  {
   "cell_type": "markdown",
   "source": [
    "## I.2 Reals"
   ],
   "metadata": {}
  },
  {
   "cell_type": "markdown",
   "source": [
    "**Problem 2 (A)**\n",
    "An alternative to interval arithmetic is ball arithmetic, which represents an interval by a centre $x$\n",
    "and a neighbourhood bounded by $b$, that is, it represents the interval $A = \\{x + δ : |δ| ≤ b \\} = [x-b,x+b]$\n",
    "by storing $x$ and $b$.\n",
    "Complete the following implementation of ball arithmetic (`+` and `*`)\n",
    "where the centre arithmetic is the default round-to-nearest\n",
    "floating point arithmetic but the returned bounds are determined to be rigorously correct, and sharp so that the tests pass.\n",
    "You may assume numbers are in the normalised range and should use the following bound for rounding (which is\n",
    "a slight variant of the \"round bound\"):\n",
    "$x = {\\rm fl}(x) + δ_a$ where $|δ_a| ≤ |{\\rm fl}(x)| ϵ_{\\rm m}/2$.\n",
    "Hint: Recall that `eps()` returns $ϵ_{\\rm m}$. Use `setrounding` to ensure that the bounds are rounded up appropriately.\n",
    "To deduce the bound for addition one would want to deduce the bounds by writing\n",
    "$$\n",
    "(x + δ_x) + (y + δ_y) = {\\rm fl}(x+y) + δ_a + δ_x + δ_y\n",
    "$$\n",
    "where the bounds on the errors are rounded up."
   ],
   "metadata": {}
  },
  {
   "outputs": [
    {
     "output_type": "execute_result",
     "data": {
      "text/plain": "\u001b[33m\u001b[1mTest Broken\u001b[22m\u001b[39m\n  Expression: (Ball(1.1, 0.0) + Ball(1.2, 0.0)) * Ball(1.3, 0.0) == Ball((1.1 + 1.2) * 1.3, 6.639133687258437e-16)"
     },
     "metadata": {},
     "execution_count": 3
    }
   ],
   "cell_type": "code",
   "source": [
    "struct Ball\n",
    "    x::Float64\n",
    "    b::Float64 # bound on the neighbourhood |δ| ≤ b\n",
    "end\n",
    "\n",
    "import Base: +, *\n",
    "\n",
    "function +(A::Ball, B::Ball)\n",
    "    # TODO: Return a Ball whose centre is `A.x + B.x` (computed with default rounding)\n",
    "    # and whose neighbourhood size precisely equals the bound from rounding the centre\n",
    "    # plus the sum of `A.b + B.b` rounded up.\n",
    "\n",
    "end\n",
    "\n",
    "function *(A::Ball, B::Ball)\n",
    "    # TODO: Return a Ball whose centre is `A.x * B.x` (computed with default rounding)\n",
    "    # where the neighbourhood is deduced from the neighbourhoods of the inputs alongside the\n",
    "    # error in rounding `A.x * B.x`.\n",
    "\n",
    "end\n",
    "\n",
    "\n",
    "\n",
    "@test Ball(2.0^(-5), 2.0^(-10)) + Ball(2.0^(-4), 2.0^(-11)) == Ball(2.0^(-5) + 2.0^(-4), 0.0014648437500000104)\n",
    "@test Ball(2.0^(-5), 2.0^(-10)) * Ball(2.0^(-4), 2.0^(-11)) == Ball(2.0^(-5) * 2.0^(-4), 7.677078247070334e-5)\n",
    "@test (Ball(1.1,0.0) + Ball(1.2,0.0)) * Ball(1.3, 0.0) == Ball((1.1+1.2)*1.3, 6.639133687258437e-16)"
   ],
   "metadata": {},
   "execution_count": 3
  },
  {
   "cell_type": "markdown",
   "source": [
    "## I.3 Divided Differences"
   ],
   "metadata": {}
  },
  {
   "cell_type": "markdown",
   "source": [
    "**Problem 3 (C)** Use central differences\n",
    "with an appropriately chosen $h$ to approximate the second derivative of\n",
    "$$\n",
    "f(x) = \\cos(x^2)\n",
    "$$\n",
    "at $x = 0.1$ to 5 digits accuracy. Note you are not required to choose a \"quasi-optimal\"\n",
    "value for $h$, as long as your choice achieves 5 digits of accuracy."
   ],
   "metadata": {}
  },
  {
   "outputs": [
    {
     "output_type": "execute_result",
     "data": {
      "text/plain": "\u001b[33m\u001b[1mTest Broken\u001b[22m\u001b[39m\n  Expression: abs(fd(0.1) + 2 * 0.1 * sin(0.1 ^ 2)) ≤ 1.0e-5"
     },
     "metadata": {},
     "execution_count": 4
    }
   ],
   "cell_type": "code",
   "source": [
    "function fd(x)\n",
    "    # TODO: implement a central-difference rule\n",
    "    # to approximate f'(x)\n",
    "    # for f(x) = cos(x^2)\n",
    "    # with step-size h chosen to get sufficient accuracy\n",
    "\n",
    "end\n",
    "\n",
    "\n",
    "@test abs(fd(0.1) + 2*0.1*sin(0.1^2)) ≤ 1E-5"
   ],
   "metadata": {},
   "execution_count": 4
  },
  {
   "cell_type": "markdown",
   "source": [
    "## I.4 Dual Numbers"
   ],
   "metadata": {}
  },
  {
   "cell_type": "markdown",
   "source": [
    "**Problem 4 (B)** Implement powers of dual numbers to a float $(a+bε)^c$ and\n",
    "to a dual number $(a+bε)^{c+dε}$, in a way that is consistent with a \"dual-extension\",\n",
    "e.g. if $f(x) = x^{3/2}$ or $f(x) = x^x$ then we want to define the power function so that\n",
    "in both cases $f(a + bϵ) = f(a) + bf'(a)ϵ$.\n",
    "Hint: for the second part recall $x^y = \\exp(y \\log x)$ which reduces the problem\n",
    "to single-argument functions where the \"dual-extension\" is easy to define."
   ],
   "metadata": {}
  },
  {
   "outputs": [
    {
     "output_type": "execute_result",
     "data": {
      "text/plain": "\u001b[33m\u001b[1mTest Broken\u001b[22m\u001b[39m\n  Expression: Dual(2.0, 1.0) ^ Dual(3.0, 1.0) ≈ Dual(8.0, 8 * (3 / 2 + log(2)))"
     },
     "metadata": {},
     "execution_count": 5
    }
   ],
   "cell_type": "code",
   "source": [
    "# Represents a + b*ε\n",
    "struct Dual\n",
    "    a::Float64\n",
    "    b::Float64\n",
    "end\n",
    "\n",
    "import Base: ^, *, isapprox\n",
    "*(x::Dual, y::Dual) = Dual(x.a*y.a, x.a*y.b + x.b*y.a)\n",
    "isapprox(x::Dual, y::Dual) = x.a ≈ y.a && x.b ≈ y.b # used in tests\n",
    "\n",
    "function ^(x::Dual, c::Real)\n",
    "    # TODO: Implement Dual(a,b)^c returning a Dual whose b-component is consistent\n",
    "    # with differentiation.\n",
    "\n",
    "end\n",
    "\n",
    "@test Dual(1.0,2.0)^0.0 == Dual(1.0, 0.0)\n",
    "@test Dual(1.0,2.0)^0.5 == Dual(1.0, 1.0)\n",
    "@test Dual(1.0,2.0)^(-0.5) == Dual(1.0, -1.0)\n",
    "\n",
    "function ^(x::Dual, y::Dual)\n",
    "    # TODO: Implement Dual(a,b)^Dual(c,d), returning a `Dual` in a way that is consistent with\n",
    "    # differentiation: i.e. for the function `f(x) = x^x`, `f(Dual(2,1))` should return\n",
    "    # `Dual(f(2), f′(2))` where `f′(x)` denotes the derivative of `f`.\n",
    "\n",
    "end\n",
    "\n",
    "\n",
    "@test Dual(2.0, 1.0) ^ Dual(3.0, 1.0) ≈ Dual(8.0,8*(3/2 + log(2)))"
   ],
   "metadata": {},
   "execution_count": 5
  },
  {
   "cell_type": "markdown",
   "source": [
    "## II.2 Orthogonal Matrices"
   ],
   "metadata": {}
  },
  {
   "cell_type": "markdown",
   "source": [
    "**Problem 5 (A)** Complete the definition of `BidiagReflections` which supports a sequence of reflections,\n",
    "that is,\n",
    "$$\n",
    "Q = Q_{𝐯_1} ⋯ Q_{𝐯_n}\n",
    "$$\n",
    "where the vectors are stored as a matrix $V ∈ ℝ^{n × n}$ whose $j$-th column is $𝐯_j ∈ ℝ^n$, and\n",
    "$$\n",
    "Q_{𝐯_j} = I - 2 𝐯_j 𝐯_j^⊤\n",
    "$$\n",
    "is a reflection. In this case, `V` is a lower bidiagonal matrix (that is, $𝐯_j$ is zero apart from the $j$ and $(j+1)th$ entry).\n",
    "Multiplication of `Q` times a vector must take only $O(n)$ operations.\n",
    "Hint: you shouldn't use the `Reflection` type from the lab solutions as that would increase the\n",
    "cost to $O(n^2)$ operations. Note also the tests do not verify that the solution takes only $O(n)$ operations\n",
    "so do not depend on the tests passing for correctness."
   ],
   "metadata": {}
  },
  {
   "outputs": [
    {
     "output_type": "execute_result",
     "data": {
      "text/plain": "\u001b[33m\u001b[1mTest Broken\u001b[22m\u001b[39m\n  Expression: Q' * Q ≈ I"
     },
     "metadata": {},
     "execution_count": 6
    }
   ],
   "cell_type": "code",
   "source": [
    "struct BidiagReflections <: AbstractMatrix{Float64}\n",
    "    V::Bidiagonal\n",
    "end\n",
    "\n",
    "import Base: size, *, getindex\n",
    "size(Q::BidiagReflections) = (size(Q.V,1), size(Q.V,1))\n",
    "\n",
    "\n",
    "function *(Q::BidiagReflections, x::AbstractVector)\n",
    "    if Q.V.uplo ≠ 'L'\n",
    "        error(\"only supports lower bidiagonal\")\n",
    "    end\n",
    "    m,n = size(Q.V) # m == n by definition of bidiag\n",
    "    for j = 1:n\n",
    "        if !(norm(Q.V[j:min(j+1,n),j]) ≈ 1)\n",
    "            error(\"Columns of Q.V must be normalised\")\n",
    "        end\n",
    "    end\n",
    "\n",
    "    # TODO: Apply Q in O(n) operations by applying\n",
    "    # the reflection corresponding to each column of Q.V to x\n",
    "    # in O(1) operations\n",
    "\n",
    "\n",
    "end\n",
    "\n",
    "function getindex(Q::BidiagReflections, k::Int, j::Int)\n",
    "    # TODO: Return Q[k,j] in O(n) operations (hint: use *)\n",
    "\n",
    "end\n",
    "\n",
    "Y = Bidiagonal(randn(4,4), :L)\n",
    "V = Y * Diagonal([1/norm(Y[:,j]) for j=1:4])\n",
    "Q = BidiagReflections(V)\n",
    "@test Q ≈ (I - 2V[:,1]*V[:,1]')*(I - 2V[:,2]*V[:,2]')*(I - 2V[:,3]*V[:,3]')*(I - 2V[:,4]*V[:,4]')\n",
    "@test Q'Q ≈ I"
   ],
   "metadata": {},
   "execution_count": 6
  },
  {
   "cell_type": "markdown",
   "source": [
    "## II.3 QR Factorisation"
   ],
   "metadata": {}
  },
  {
   "cell_type": "markdown",
   "source": [
    "**Problem 6 (C)** Approximate $\\exp x$ by a degree $n$ polynomial by interpolating\n",
    "  when sampled at $n$ evenly spaced points in $[0,1]$,\n",
    "that is, $x_k = (k-1)/(n-1)$ for $k = 1,…,n$,\n",
    "returning the coefficients in the monomial basis."
   ],
   "metadata": {}
  },
  {
   "outputs": [
    {
     "output_type": "execute_result",
     "data": {
      "text/plain": "\u001b[33m\u001b[1mTest Broken\u001b[22m\u001b[39m\n  Expression: c' * [x ^ k for k = 0:n - 1] ≈ exp(x)"
     },
     "metadata": {},
     "execution_count": 7
    }
   ],
   "cell_type": "code",
   "source": [
    "function expinterp(n)\n",
    "    # TODO: return the coefficients [c_0,…,c_{n-1}] of the polynomial\n",
    "    # c_0 + ⋯ + c_{n-1}*x^{n-1} that equals exp(x) at x_k defined above.\n",
    "\n",
    "end\n",
    "\n",
    "n = 22\n",
    "c = expinterp(n)\n",
    "x = 0.1\n",
    "@test c'*[x^k for k=0:n-1] ≈ exp(x)"
   ],
   "metadata": {},
   "execution_count": 7
  },
  {
   "cell_type": "markdown",
   "source": [
    "## II.4 PLU and Cholesky"
   ],
   "metadata": {}
  },
  {
   "cell_type": "markdown",
   "source": [
    "**Problem 7 (B)** Implement `reversecholesky(A)` that returns an upper-triangular matrix `U` such that `U*U' ≈ A`.\n",
    "You may assume the input is symmetric positive definite and has `Float64` values. You must not use the inbuilt `cholesky`\n",
    "function or in any other way reduce the problem to a standard Cholesky decomposition."
   ],
   "metadata": {}
  },
  {
   "outputs": [
    {
     "output_type": "execute_result",
     "data": {
      "text/plain": "\u001b[33m\u001b[1mTest Broken\u001b[22m\u001b[39m\n  Expression: U * U' ≈ A"
     },
     "metadata": {},
     "execution_count": 8
    }
   ],
   "cell_type": "code",
   "source": [
    "function reversecholesky(A)\n",
    "    T = eltype(A)\n",
    "    n,m = size(A)\n",
    "    if n ≠ m\n",
    "        error(\"Matrix must be square\")\n",
    "    end\n",
    "    if A ≠ A'\n",
    "        error(\"Matrix must be symmetric\")\n",
    "    end\n",
    "    U = UpperTriangular(zeros(n,n))\n",
    "    # TODO: populate U so that U'U ≈ A\n",
    "\n",
    "    U\n",
    "end\n",
    "\n",
    "A = [2 1 0; 1 2 1; 0 1 2]\n",
    "U = reversecholesky(A)\n",
    "@test U*U' ≈ A"
   ],
   "metadata": {},
   "execution_count": 8
  },
  {
   "cell_type": "markdown",
   "source": [
    "## II.6 Singular Value Decomposition"
   ],
   "metadata": {}
  },
  {
   "cell_type": "markdown",
   "source": [
    "**Problem 8 (B)** Implement `issvdfactors(U, σ, V)` which checks if the inputs satisfy the\n",
    "conditions of a SVD, permitting small errors due to round-off errors.\n",
    "Use the definition of the SVD as defined in notes/lectures, where the length of `σ` is equal to the rank of the\n",
    "corresponding matrix. Hint: when checking if a matrix `A` equals the identity matrix (up-to-roundoff errors)\n",
    "a simple way to check is that `A ≈ I` or equivalently `isapprox(A, I)`."
   ],
   "metadata": {}
  },
  {
   "outputs": [
    {
     "output_type": "execute_result",
     "data": {
      "text/plain": "\u001b[33m\u001b[1mTest Broken\u001b[22m\u001b[39m\n  Expression: !(issvdfactors(U[:, 2:-1:1], σ[2:-1:1], V[:, 2:-1:1]))"
     },
     "metadata": {},
     "execution_count": 9
    }
   ],
   "cell_type": "code",
   "source": [
    "function issvdfactors(U::AbstractMatrix, σ::AbstractVector, V::AbstractMatrix)\n",
    "    # TODO: return `true` if the inputs are in the correct format for an SVD. Otherwise return `false`\n",
    "\n",
    "end\n",
    "\n",
    "A = [1 2 3;\n",
    "     4 5 6;\n",
    "     7 8 9]\n",
    "\n",
    "U, σ, V = svd(A)\n",
    "@test !issvdfactors(U, [σ[1:2]; 0], V)\n",
    "@test issvdfactors(U[:,1:2], σ[1:2], V[:,1:2])\n",
    "@test !issvdfactors(U[:,2:-1:1], σ[2:-1:1], V[:,2:-1:1])"
   ],
   "metadata": {},
   "execution_count": 9
  },
  {
   "cell_type": "markdown",
   "source": [
    "## II.7 Condition Numbers"
   ],
   "metadata": {}
  },
  {
   "cell_type": "markdown",
   "source": [
    "**Problem 9 (C)** Implement the following `matcond(A)` function that is able to compute the\n",
    "2-norm condition number of `A`. You must not use the inbuilt `cond`\n",
    "or `opnorm` functions, but may use the `svdvals` function."
   ],
   "metadata": {}
  },
  {
   "outputs": [
    {
     "output_type": "execute_result",
     "data": {
      "text/plain": "\u001b[33m\u001b[1mTest Broken\u001b[22m\u001b[39m\n  Expression: matcond(A) ≈ 120.50662309164431"
     },
     "metadata": {},
     "execution_count": 10
    }
   ],
   "cell_type": "code",
   "source": [
    "function matcond(A)\n",
    "    # TODO: Use `svdvals` to return the 2-norm condition number of `A`.\n",
    "\n",
    "end\n",
    "\n",
    "A = [1 2 3;\n",
    "     4 5 6;\n",
    "     7 8 8]\n",
    "@test matcond(A) ≈ 120.50662309164431"
   ],
   "metadata": {},
   "execution_count": 10
  },
  {
   "cell_type": "markdown",
   "source": [
    "---\n",
    "\n",
    "*This notebook was generated using [Literate.jl](https://github.com/fredrikekre/Literate.jl).*"
   ],
   "metadata": {}
  }
 ],
 "nbformat_minor": 3,
 "metadata": {
  "language_info": {
   "file_extension": ".jl",
   "mimetype": "application/julia",
   "name": "julia",
   "version": "1.8.3-pre.0"
  },
  "kernelspec": {
   "name": "julia-1.8",
   "display_name": "Julia 1.8.3-pre.0",
   "language": "julia"
  }
 },
 "nbformat": 4
}
